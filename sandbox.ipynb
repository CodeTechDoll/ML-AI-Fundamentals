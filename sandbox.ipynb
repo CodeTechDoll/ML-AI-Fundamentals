{
 "cells": [
  {
   "cell_type": "code",
   "execution_count": null,
   "id": "6c8ab5b0-ee8c-4b59-9277-930d0652fd1c",
   "metadata": {},
   "outputs": [],
   "source": [
    "import pandas as pd\n",
    "import plotly.express as px\n",
    "import plotly.graph_objects as go\n",
    "from sklearn.datasets import load_iris\n",
    "from sklearn.linear_model import LogisticRegression\n",
    "from sklearn.preprocessing import StandardScaler\n",
    "\n",
    "# Load Iris dataset\n",
    "iris = load_iris()\n",
    "df = pd.DataFrame(iris.data, columns=iris.feature_names)\n",
    "df['species'] = iris.target\n",
    "\n",
    "# Standardize features\n",
    "scaler = StandardScaler()\n",
    "X = scaler.fit_transform(df.iloc[:, :4])\n",
    "\n",
    "# Fit logistic regression model\n",
    "model = LogisticRegression()\n",
    "model.fit(X, iris.target)\n",
    "\n",
    "# Function to plot decision boundary\n",
    "def plot_decision_boundary(X, y, model, feature1, feature2):\n",
    "    x_min, x_max = X[:, feature1].min() - 1, X[:, feature1].max() + 1\n",
    "    y_min, y_max = X[:, feature2].min() - 1, X[:, feature2].max() + 1\n",
    "\n",
    "    xx, yy = np.meshgrid(np.arange(x_min, x_max, 0.1),\n",
    "                         np.arange(y_min, y_max, 0.1))\n",
    "\n",
    "    Z = model.predict(np.c_[xx.ravel(), yy.ravel()])\n",
    "    Z = Z.reshape(xx.shape)\n",
    "\n",
    "    fig = go.Figure()\n",
    "\n",
    "    fig.add_trace(go.Contour(x=xx[0], y=yy[:, 0], z=Z, colorscale='Viridis',\n",
    "                             showscale=False, opacity=0.4, name='Decision Boundary'))\n",
    "\n",
    "    for species, color in zip(range(3), px.colors.qualitative.Plotly):\n",
    "        fig.add_trace(go.Scatter(x=X[y == species, feature1], y=X[y == species, feature2],\n",
    "                                 mode='markers', marker=dict(color=color, size=8),\n",
    "                                 name=iris.target_names[species]))\n",
    "\n",
    "    fig.update_layout(scene=dict(xaxis_title=f'Feature {feature1}', yaxis_title=f'Feature {feature2}'))\n",
    "\n",
    "    return fig\n",
    "\n",
    "# Initial plot with the first two features\n",
    "fig = plot_decision_boundary(X, iris.target, model, 0, 1)\n",
    "fig.show()"
   ]
  }
 ],
 "metadata": {
  "kernelspec": {
   "display_name": "Python 3 (ipykernel)",
   "language": "python",
   "name": "python3"
  },
  "language_info": {
   "codemirror_mode": {
    "name": "ipython",
    "version": 3
   },
   "file_extension": ".py",
   "mimetype": "text/x-python",
   "name": "python",
   "nbconvert_exporter": "python",
   "pygments_lexer": "ipython3",
   "version": "3.11.2"
  }
 },
 "nbformat": 4,
 "nbformat_minor": 5
}
